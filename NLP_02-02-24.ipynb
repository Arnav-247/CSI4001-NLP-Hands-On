{
 "cells": [
  {
   "cell_type": "code",
   "execution_count": 1,
   "id": "45969cc0-cb9b-4043-bc79-6a1487a806e1",
   "metadata": {},
   "outputs": [],
   "source": [
    "import nltk"
   ]
  },
  {
   "cell_type": "code",
   "execution_count": 2,
   "id": "f1beae9f-e385-418b-bd75-ee5daf491a30",
   "metadata": {},
   "outputs": [],
   "source": [
    "from nltk.corpus import stopwords"
   ]
  },
  {
   "cell_type": "code",
   "execution_count": 3,
   "id": "c127e05f-0343-46ce-8d82-4e0c908c3e5b",
   "metadata": {},
   "outputs": [
    {
     "data": {
      "text/plain": [
       "['au',\n",
       " 'aux',\n",
       " 'avec',\n",
       " 'ce',\n",
       " 'ces',\n",
       " 'dans',\n",
       " 'de',\n",
       " 'des',\n",
       " 'du',\n",
       " 'elle',\n",
       " 'en',\n",
       " 'et',\n",
       " 'eux',\n",
       " 'il',\n",
       " 'ils',\n",
       " 'je',\n",
       " 'la',\n",
       " 'le',\n",
       " 'les',\n",
       " 'leur',\n",
       " 'lui',\n",
       " 'ma',\n",
       " 'mais',\n",
       " 'me',\n",
       " 'même',\n",
       " 'mes',\n",
       " 'moi',\n",
       " 'mon',\n",
       " 'ne',\n",
       " 'nos',\n",
       " 'notre',\n",
       " 'nous',\n",
       " 'on',\n",
       " 'ou',\n",
       " 'par',\n",
       " 'pas',\n",
       " 'pour',\n",
       " 'qu',\n",
       " 'que',\n",
       " 'qui',\n",
       " 'sa',\n",
       " 'se',\n",
       " 'ses',\n",
       " 'son',\n",
       " 'sur',\n",
       " 'ta',\n",
       " 'te',\n",
       " 'tes',\n",
       " 'toi',\n",
       " 'ton',\n",
       " 'tu',\n",
       " 'un',\n",
       " 'une',\n",
       " 'vos',\n",
       " 'votre',\n",
       " 'vous',\n",
       " 'c',\n",
       " 'd',\n",
       " 'j',\n",
       " 'l',\n",
       " 'à',\n",
       " 'm',\n",
       " 'n',\n",
       " 's',\n",
       " 't',\n",
       " 'y',\n",
       " 'été',\n",
       " 'étée',\n",
       " 'étées',\n",
       " 'étés',\n",
       " 'étant',\n",
       " 'étante',\n",
       " 'étants',\n",
       " 'étantes',\n",
       " 'suis',\n",
       " 'es',\n",
       " 'est',\n",
       " 'sommes',\n",
       " 'êtes',\n",
       " 'sont',\n",
       " 'serai',\n",
       " 'seras',\n",
       " 'sera',\n",
       " 'serons',\n",
       " 'serez',\n",
       " 'seront',\n",
       " 'serais',\n",
       " 'serait',\n",
       " 'serions',\n",
       " 'seriez',\n",
       " 'seraient',\n",
       " 'étais',\n",
       " 'était',\n",
       " 'étions',\n",
       " 'étiez',\n",
       " 'étaient',\n",
       " 'fus',\n",
       " 'fut',\n",
       " 'fûmes',\n",
       " 'fûtes',\n",
       " 'furent',\n",
       " 'sois',\n",
       " 'soit',\n",
       " 'soyons',\n",
       " 'soyez',\n",
       " 'soient',\n",
       " 'fusse',\n",
       " 'fusses',\n",
       " 'fût',\n",
       " 'fussions',\n",
       " 'fussiez',\n",
       " 'fussent',\n",
       " 'ayant',\n",
       " 'ayante',\n",
       " 'ayantes',\n",
       " 'ayants',\n",
       " 'eu',\n",
       " 'eue',\n",
       " 'eues',\n",
       " 'eus',\n",
       " 'ai',\n",
       " 'as',\n",
       " 'avons',\n",
       " 'avez',\n",
       " 'ont',\n",
       " 'aurai',\n",
       " 'auras',\n",
       " 'aura',\n",
       " 'aurons',\n",
       " 'aurez',\n",
       " 'auront',\n",
       " 'aurais',\n",
       " 'aurait',\n",
       " 'aurions',\n",
       " 'auriez',\n",
       " 'auraient',\n",
       " 'avais',\n",
       " 'avait',\n",
       " 'avions',\n",
       " 'aviez',\n",
       " 'avaient',\n",
       " 'eut',\n",
       " 'eûmes',\n",
       " 'eûtes',\n",
       " 'eurent',\n",
       " 'aie',\n",
       " 'aies',\n",
       " 'ait',\n",
       " 'ayons',\n",
       " 'ayez',\n",
       " 'aient',\n",
       " 'eusse',\n",
       " 'eusses',\n",
       " 'eût',\n",
       " 'eussions',\n",
       " 'eussiez',\n",
       " 'eussent']"
      ]
     },
     "execution_count": 3,
     "metadata": {},
     "output_type": "execute_result"
    }
   ],
   "source": [
    "stopwords.words(\"french\")"
   ]
  },
  {
   "cell_type": "code",
   "execution_count": 4,
   "id": "d10a83c1-1ebc-41b5-b691-053928769c50",
   "metadata": {},
   "outputs": [
    {
     "data": {
      "text/plain": [
       "['i',\n",
       " 'me',\n",
       " 'my',\n",
       " 'myself',\n",
       " 'we',\n",
       " 'our',\n",
       " 'ours',\n",
       " 'ourselves',\n",
       " 'you',\n",
       " \"you're\",\n",
       " \"you've\",\n",
       " \"you'll\",\n",
       " \"you'd\",\n",
       " 'your',\n",
       " 'yours',\n",
       " 'yourself',\n",
       " 'yourselves',\n",
       " 'he',\n",
       " 'him',\n",
       " 'his',\n",
       " 'himself',\n",
       " 'she',\n",
       " \"she's\",\n",
       " 'her',\n",
       " 'hers',\n",
       " 'herself',\n",
       " 'it',\n",
       " \"it's\",\n",
       " 'its',\n",
       " 'itself',\n",
       " 'they',\n",
       " 'them',\n",
       " 'their',\n",
       " 'theirs',\n",
       " 'themselves',\n",
       " 'what',\n",
       " 'which',\n",
       " 'who',\n",
       " 'whom',\n",
       " 'this',\n",
       " 'that',\n",
       " \"that'll\",\n",
       " 'these',\n",
       " 'those',\n",
       " 'am',\n",
       " 'is',\n",
       " 'are',\n",
       " 'was',\n",
       " 'were',\n",
       " 'be',\n",
       " 'been',\n",
       " 'being',\n",
       " 'have',\n",
       " 'has',\n",
       " 'had',\n",
       " 'having',\n",
       " 'do',\n",
       " 'does',\n",
       " 'did',\n",
       " 'doing',\n",
       " 'a',\n",
       " 'an',\n",
       " 'the',\n",
       " 'and',\n",
       " 'but',\n",
       " 'if',\n",
       " 'or',\n",
       " 'because',\n",
       " 'as',\n",
       " 'until',\n",
       " 'while',\n",
       " 'of',\n",
       " 'at',\n",
       " 'by',\n",
       " 'for',\n",
       " 'with',\n",
       " 'about',\n",
       " 'against',\n",
       " 'between',\n",
       " 'into',\n",
       " 'through',\n",
       " 'during',\n",
       " 'before',\n",
       " 'after',\n",
       " 'above',\n",
       " 'below',\n",
       " 'to',\n",
       " 'from',\n",
       " 'up',\n",
       " 'down',\n",
       " 'in',\n",
       " 'out',\n",
       " 'on',\n",
       " 'off',\n",
       " 'over',\n",
       " 'under',\n",
       " 'again',\n",
       " 'further',\n",
       " 'then',\n",
       " 'once',\n",
       " 'here',\n",
       " 'there',\n",
       " 'when',\n",
       " 'where',\n",
       " 'why',\n",
       " 'how',\n",
       " 'all',\n",
       " 'any',\n",
       " 'both',\n",
       " 'each',\n",
       " 'few',\n",
       " 'more',\n",
       " 'most',\n",
       " 'other',\n",
       " 'some',\n",
       " 'such',\n",
       " 'no',\n",
       " 'nor',\n",
       " 'not',\n",
       " 'only',\n",
       " 'own',\n",
       " 'same',\n",
       " 'so',\n",
       " 'than',\n",
       " 'too',\n",
       " 'very',\n",
       " 's',\n",
       " 't',\n",
       " 'can',\n",
       " 'will',\n",
       " 'just',\n",
       " 'don',\n",
       " \"don't\",\n",
       " 'should',\n",
       " \"should've\",\n",
       " 'now',\n",
       " 'd',\n",
       " 'll',\n",
       " 'm',\n",
       " 'o',\n",
       " 're',\n",
       " 've',\n",
       " 'y',\n",
       " 'ain',\n",
       " 'aren',\n",
       " \"aren't\",\n",
       " 'couldn',\n",
       " \"couldn't\",\n",
       " 'didn',\n",
       " \"didn't\",\n",
       " 'doesn',\n",
       " \"doesn't\",\n",
       " 'hadn',\n",
       " \"hadn't\",\n",
       " 'hasn',\n",
       " \"hasn't\",\n",
       " 'haven',\n",
       " \"haven't\",\n",
       " 'isn',\n",
       " \"isn't\",\n",
       " 'ma',\n",
       " 'mightn',\n",
       " \"mightn't\",\n",
       " 'mustn',\n",
       " \"mustn't\",\n",
       " 'needn',\n",
       " \"needn't\",\n",
       " 'shan',\n",
       " \"shan't\",\n",
       " 'shouldn',\n",
       " \"shouldn't\",\n",
       " 'wasn',\n",
       " \"wasn't\",\n",
       " 'weren',\n",
       " \"weren't\",\n",
       " 'won',\n",
       " \"won't\",\n",
       " 'wouldn',\n",
       " \"wouldn't\"]"
      ]
     },
     "execution_count": 4,
     "metadata": {},
     "output_type": "execute_result"
    }
   ],
   "source": [
    "stopwords.words(\"english\")"
   ]
  },
  {
   "cell_type": "code",
   "execution_count": 5,
   "id": "fe4e6bed-ccff-4798-8c40-947073282e6f",
   "metadata": {},
   "outputs": [
    {
     "data": {
      "text/plain": [
       "133737"
      ]
     },
     "execution_count": 5,
     "metadata": {},
     "output_type": "execute_result"
    }
   ],
   "source": [
    "entries = nltk.corpus.cmudict.entries()\n",
    "len(entries)"
   ]
  },
  {
   "cell_type": "code",
   "execution_count": 7,
   "id": "a5cbbf73-1718-4368-8750-b85c20ebea5c",
   "metadata": {},
   "outputs": [
    {
     "name": "stdout",
     "output_type": "stream",
     "text": [
      "('repackaged', ['R', 'IY1', 'P', 'AE0', 'K', 'IH0', 'JH', 'D'])\n",
      "('repackages', ['R', 'IY2', 'P', 'AE1', 'K', 'IH0', 'JH', 'IH0', 'Z'])\n",
      "('repackaging', ['R', 'IY1', 'P', 'AE0', 'K', 'IH0', 'JH', 'IH0', 'NG'])\n",
      "('repacked', ['R', 'IY0', 'P', 'AE1', 'K', 'T'])\n",
      "('repaid', ['R', 'IY0', 'P', 'EY1', 'D'])\n",
      "('repaint', ['R', 'IY0', 'P', 'EY1', 'N', 'T'])\n",
      "('repainted', ['R', 'IY0', 'P', 'EY1', 'N', 'T', 'AH0', 'D'])\n",
      "('repainting', ['R', 'IY0', 'P', 'EY1', 'N', 'T', 'IH0', 'NG'])\n",
      "('repair', ['R', 'IH0', 'P', 'EH1', 'R'])\n",
      "('repairable', ['R', 'IH0', 'P', 'EH1', 'R', 'AH0', 'B', 'AH0', 'L'])\n",
      "('repaired', ['R', 'IH0', 'P', 'EH1', 'R', 'D'])\n",
      "('repaired', ['R', 'IY0', 'P', 'EH1', 'R', 'D'])\n",
      "('repairing', ['R', 'IH0', 'P', 'EH1', 'R', 'IH0', 'NG'])\n",
      "('repairing', ['R', 'IY0', 'P', 'EH1', 'R', 'IH0', 'NG'])\n",
      "('repairman', ['R', 'IH0', 'P', 'EH1', 'R', 'M', 'AE2', 'N'])\n",
      "('repairman', ['R', 'IY0', 'P', 'EH1', 'R', 'M', 'AE2', 'N'])\n",
      "('repairmen', ['R', 'IH0', 'P', 'EH1', 'R', 'M', 'EH2', 'N'])\n",
      "('repairs', ['R', 'IH0', 'P', 'EH1', 'R', 'Z'])\n",
      "('repairs', ['R', 'IY0', 'P', 'EH1', 'R', 'Z'])\n",
      "('repap', ['R', 'IY1', 'P', 'AE0', 'P'])\n"
     ]
    }
   ],
   "source": [
    "#Asciification on IPA\n",
    "for entry in entries[100000:100020]:\n",
    "    print(entry)"
   ]
  },
  {
   "cell_type": "code",
   "execution_count": 10,
   "id": "a5389988-f217-4cf4-a963-3f21a16bbd96",
   "metadata": {},
   "outputs": [
    {
     "data": {
      "text/plain": [
       "[Synset('ruler.n.01'), Synset('rule.n.12')]"
      ]
     },
     "execution_count": 10,
     "metadata": {},
     "output_type": "execute_result"
    }
   ],
   "source": [
    "from nltk.corpus import wordnet as wn\n",
    "wn.synsets('ruler')"
   ]
  },
  {
   "cell_type": "code",
   "execution_count": 12,
   "id": "3473e849-21d3-4cc3-98cf-ec8f8217ae79",
   "metadata": {},
   "outputs": [
    {
     "data": {
      "text/plain": [
       "['ruler', 'swayer']"
      ]
     },
     "execution_count": 12,
     "metadata": {},
     "output_type": "execute_result"
    }
   ],
   "source": [
    "wn.synset('ruler.n.01').lemma_names()"
   ]
  },
  {
   "cell_type": "code",
   "execution_count": 14,
   "id": "d7f7932b-4fb1-4bf4-8d76-a3f9b8aa3916",
   "metadata": {},
   "outputs": [
    {
     "data": {
      "text/plain": [
       "['rule', 'ruler']"
      ]
     },
     "execution_count": 14,
     "metadata": {},
     "output_type": "execute_result"
    }
   ],
   "source": [
    "wn.synset('rule.n.12').lemma_names()"
   ]
  },
  {
   "cell_type": "code",
   "execution_count": 17,
   "id": "0662be11-46b0-4fe7-9155-3bfb6c73b442",
   "metadata": {},
   "outputs": [
    {
     "data": {
      "text/plain": [
       "'sing'"
      ]
     },
     "execution_count": 17,
     "metadata": {},
     "output_type": "execute_result"
    }
   ],
   "source": [
    "from nltk.stem import PorterStemmer\n",
    "stemmer = PorterStemmer()\n",
    "stemmer.stem('Singing')"
   ]
  },
  {
   "cell_type": "code",
   "execution_count": 18,
   "id": "d4a7a547-a8d8-4f74-9f92-c176d5832d5f",
   "metadata": {},
   "outputs": [
    {
     "data": {
      "text/plain": [
       "'sing'"
      ]
     },
     "execution_count": 18,
     "metadata": {},
     "output_type": "execute_result"
    }
   ],
   "source": [
    "from nltk.stem import LancasterStemmer\n",
    "stemmer = LancasterStemmer()\n",
    "stemmer.stem('Singing')"
   ]
  },
  {
   "cell_type": "code",
   "execution_count": 19,
   "id": "430559be-d681-48b7-ab45-d4057c6b4661",
   "metadata": {},
   "outputs": [
    {
     "data": {
      "text/plain": [
       "('arabic',\n",
       " 'danish',\n",
       " 'dutch',\n",
       " 'english',\n",
       " 'finnish',\n",
       " 'french',\n",
       " 'german',\n",
       " 'hungarian',\n",
       " 'italian',\n",
       " 'norwegian',\n",
       " 'porter',\n",
       " 'portuguese',\n",
       " 'romanian',\n",
       " 'russian',\n",
       " 'spanish',\n",
       " 'swedish')"
      ]
     },
     "execution_count": 19,
     "metadata": {},
     "output_type": "execute_result"
    }
   ],
   "source": [
    "from nltk.stem import SnowballStemmer\n",
    "SnowballStemmer.languages"
   ]
  },
  {
   "cell_type": "code",
   "execution_count": 20,
   "id": "85f8fdce-7ceb-4f29-95ae-238709497dff",
   "metadata": {},
   "outputs": [
    {
     "data": {
      "text/plain": [
       "'mangeon'"
      ]
     },
     "execution_count": 20,
     "metadata": {},
     "output_type": "execute_result"
    }
   ],
   "source": [
    "frenchstemmer = SnowballStemmer('french')\n",
    "frenchstemmer.stem('mangeons')"
   ]
  },
  {
   "cell_type": "code",
   "execution_count": 21,
   "id": "483ba308-c057-44a2-b476-bdee47e08d15",
   "metadata": {},
   "outputs": [],
   "source": [
    "text = \"\"\"The Mexican oil expropriation (Spanish: expropiación petrolera) was the nationalization of all petroleum reserves, facilities, and foreign oil companies in Mexico on March 18, 1938. In accordance with Article 27 of the Constitution of 1917, President Lázaro Cárdenas declared that all mineral and oil reserves found within Mexico belong to \"the nation\", i.e., the federal government. The Mexican government established a state-owned petroleum company, Petróleos Mexicanos, or PEMEX. For a short period, this measure caused an international boycott of Mexican products in the following years, especially by the United States, the United Kingdom, and the Netherlands, but with the outbreak of World War II and the alliance between Mexico and the Allies, the disputes with private companies over compensation were resolved.[1] The anniversary, March 18, is now a Mexican civic holiday.\"\"\""
   ]
  },
  {
   "cell_type": "code",
   "execution_count": 23,
   "id": "950bd3b9-5d45-43ff-8fb8-0064800ca346",
   "metadata": {},
   "outputs": [
    {
     "name": "stdout",
     "output_type": "stream",
     "text": [
      "['The Mexican oil expropriation (Spanish: expropiación petrolera) was the nationalization of all petroleum reserves, facilities, and foreign oil companies in Mexico on March 18, 1938.', 'In accordance with Article 27 of the Constitution of 1917, President Lázaro Cárdenas declared that all mineral and oil reserves found within Mexico belong to \"the nation\", i.e., the federal government.', 'The Mexican government established a state-owned petroleum company, Petróleos Mexicanos, or PEMEX.', 'For a short period, this measure caused an international boycott of Mexican products in the following years, especially by the United States, the United Kingdom, and the Netherlands, but with the outbreak of World War II and the alliance between Mexico and the Allies, the disputes with private companies over compensation were resolved.', '[1] The anniversary, March 18, is now a Mexican civic holiday.']\n"
     ]
    },
    {
     "data": {
      "text/plain": [
       "5"
      ]
     },
     "execution_count": 23,
     "metadata": {},
     "output_type": "execute_result"
    }
   ],
   "source": [
    "sentences = nltk.sent_tokenize(text)\n",
    "print(sentences)\n",
    "len(sentences)"
   ]
  },
  {
   "cell_type": "code",
   "execution_count": 25,
   "id": "fdf99af1-1c24-4b92-8f0f-c71b0d60f1ae",
   "metadata": {},
   "outputs": [
    {
     "name": "stdout",
     "output_type": "stream",
     "text": [
      "[('The', 'DT'), ('Mexican', 'JJ'), ('oil', 'NN'), ('expropriation', 'NN'), ('(', '('), ('Spanish', 'JJ'), (':', ':'), ('expropiación', 'NN'), ('petrolera', 'NN'), (')', ')'), ('was', 'VBD'), ('the', 'DT'), ('nationalization', 'NN'), ('of', 'IN'), ('all', 'DT'), ('petroleum', 'NN'), ('reserves', 'NNS'), (',', ','), ('facilities', 'NNS'), (',', ','), ('and', 'CC'), ('foreign', 'JJ'), ('oil', 'NN'), ('companies', 'NNS'), ('in', 'IN'), ('Mexico', 'NNP'), ('on', 'IN'), ('March', 'NNP'), ('18', 'CD'), (',', ','), ('1938', 'CD'), ('.', '.')]\n",
      "[('In', 'IN'), ('accordance', 'NN'), ('with', 'IN'), ('Article', 'NNP'), ('27', 'CD'), ('of', 'IN'), ('the', 'DT'), ('Constitution', 'NNP'), ('of', 'IN'), ('1917', 'CD'), (',', ','), ('President', 'NNP'), ('Lázaro', 'NNP'), ('Cárdenas', 'NNP'), ('declared', 'VBD'), ('that', 'IN'), ('all', 'DT'), ('mineral', 'NN'), ('and', 'CC'), ('oil', 'NN'), ('reserves', 'NNS'), ('found', 'VBD'), ('within', 'IN'), ('Mexico', 'NNP'), ('belong', 'NN'), ('to', 'TO'), ('``', '``'), ('the', 'DT'), ('nation', 'NN'), (\"''\", \"''\"), (',', ','), ('i.e.', 'FW'), (',', ','), ('the', 'DT'), ('federal', 'JJ'), ('government', 'NN'), ('.', '.')]\n",
      "[('The', 'DT'), ('Mexican', 'JJ'), ('government', 'NN'), ('established', 'VBD'), ('a', 'DT'), ('state-owned', 'JJ'), ('petroleum', 'NN'), ('company', 'NN'), (',', ','), ('Petróleos', 'NNP'), ('Mexicanos', 'NNP'), (',', ','), ('or', 'CC'), ('PEMEX', 'NNP'), ('.', '.')]\n",
      "[('For', 'IN'), ('a', 'DT'), ('short', 'JJ'), ('period', 'NN'), (',', ','), ('this', 'DT'), ('measure', 'NN'), ('caused', 'VBD'), ('an', 'DT'), ('international', 'JJ'), ('boycott', 'NN'), ('of', 'IN'), ('Mexican', 'JJ'), ('products', 'NNS'), ('in', 'IN'), ('the', 'DT'), ('following', 'JJ'), ('years', 'NNS'), (',', ','), ('especially', 'RB'), ('by', 'IN'), ('the', 'DT'), ('United', 'NNP'), ('States', 'NNPS'), (',', ','), ('the', 'DT'), ('United', 'NNP'), ('Kingdom', 'NNP'), (',', ','), ('and', 'CC'), ('the', 'DT'), ('Netherlands', 'NNP'), (',', ','), ('but', 'CC'), ('with', 'IN'), ('the', 'DT'), ('outbreak', 'NN'), ('of', 'IN'), ('World', 'NNP'), ('War', 'NNP'), ('II', 'NNP'), ('and', 'CC'), ('the', 'DT'), ('alliance', 'NN'), ('between', 'IN'), ('Mexico', 'NNP'), ('and', 'CC'), ('the', 'DT'), ('Allies', 'NNS'), (',', ','), ('the', 'DT'), ('disputes', 'NNS'), ('with', 'IN'), ('private', 'JJ'), ('companies', 'NNS'), ('over', 'IN'), ('compensation', 'NN'), ('were', 'VBD'), ('resolved', 'VBN'), ('.', '.')]\n",
      "[('[', 'RB'), ('1', 'CD'), (']', 'VBD'), ('The', 'DT'), ('anniversary', 'NN'), (',', ','), ('March', 'NNP'), ('18', 'CD'), (',', ','), ('is', 'VBZ'), ('now', 'RB'), ('a', 'DT'), ('Mexican', 'JJ'), ('civic', 'NN'), ('holiday', 'NN'), ('.', '.')]\n"
     ]
    }
   ],
   "source": [
    "for sentence in sentences:\n",
    "    words = nltk.word_tokenize(sentence)\n",
    "    tagged = nltk.pos_tag(words)  ## Penn linguistics POS tags\n",
    "    print(tagged)"
   ]
  },
  {
   "cell_type": "code",
   "execution_count": 28,
   "id": "5a1fa242-26cf-4f76-864f-156a2e9bad11",
   "metadata": {},
   "outputs": [
    {
     "name": "stdout",
     "output_type": "stream",
     "text": [
      "Displaying 4 of 4 matches:\n",
      "The Mexican oil expropriation (Spanish: expropi\n",
      ", i.e., the federal government. The Mexican government established a state-owne\n",
      " caused an international boycott of Mexican products in the following years, es\n",
      "The anniversary, March 18, is now a Mexican civic holiday.\n"
     ]
    }
   ],
   "source": [
    "text1 = text.split()\n",
    "text2 = nltk.Text(text1)\n",
    "text2.concordance(\"mexican\")"
   ]
  }
 ],
 "metadata": {
  "kernelspec": {
   "display_name": "Python [conda env:root] *",
   "language": "python",
   "name": "conda-root-py"
  },
  "language_info": {
   "codemirror_mode": {
    "name": "ipython",
    "version": 3
   },
   "file_extension": ".py",
   "mimetype": "text/x-python",
   "name": "python",
   "nbconvert_exporter": "python",
   "pygments_lexer": "ipython3",
   "version": "3.10.10"
  }
 },
 "nbformat": 4,
 "nbformat_minor": 5
}
